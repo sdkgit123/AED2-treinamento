{
  "nbformat": 4,
  "nbformat_minor": 0,
  "metadata": {
    "colab": {
      "provenance": []
    },
    "kernelspec": {
      "name": "python3",
      "display_name": "Python 3"
    },
    "language_info": {
      "name": "python"
    }
  },
  "cells": [
    {
      "cell_type": "code",
      "source": [
        "#bubble sort\n",
        "import time\n",
        "def bubblesort(lista):\n",
        "    tempo = time.time()\n",
        "    for i in range(len(lista)-1,0,-1):\n",
        "        for j in range(i):\n",
        "            if lista[j]>lista[j+1]:\n",
        "                lista[j],lista[j+1]=lista[j+1],lista[j]\n",
        "    tempo = time.time() - tempo\n",
        "    return lista, tempo"
      ],
      "metadata": {
        "id": "rcUHm6k-dVso"
      },
      "execution_count": 1,
      "outputs": []
    },
    {
      "cell_type": "code",
      "source": [
        "import random\n",
        "tamanholistas = [5, 10, 15, 20, 25, 30, 500]\n",
        "listas = []\n",
        "tempos = []\n",
        "for i in tamanholistas:\n",
        "    lista = random.sample(range(1000), i)\n",
        "    listas.append(lista)\n",
        "for lista in listas:\n",
        "    resul, tempo = bubblesort(lista)\n",
        "    tempos.append(tempo)\n",
        "\n",
        "print(listas[0], tempos)"
      ],
      "metadata": {
        "colab": {
          "base_uri": "https://localhost:8080/"
        },
        "id": "tXrQn7yyftEw",
        "outputId": "e3c0484a-298f-43e5-bbb9-742ae6b8fee5"
      },
      "execution_count": 6,
      "outputs": [
        {
          "output_type": "stream",
          "name": "stdout",
          "text": [
            "[110, 133, 301, 479, 941] [5.9604644775390625e-06, 1.0013580322265625e-05, 2.0503997802734375e-05, 3.337860107421875e-05, 7.033348083496094e-05, 7.200241088867188e-05, 0.03682661056518555]\n"
          ]
        }
      ]
    },
    {
      "cell_type": "code",
      "source": [
        "#bubble sort otimizado\n",
        "def bubblesortotimizado(lista):\n",
        "    tempo = time.time()\n",
        "    n = len(lista)\n",
        "    for i in range(n-1):\n",
        "        swapped = False\n",
        "        for j in range(0, n-i-1):\n",
        "            if lista[j] > lista[j+1]:\n",
        "                lista[j], lista[j+1] = lista[j+1], lista[j]\n",
        "                swapped = True\n",
        "        if not swapped:\n",
        "            break\n",
        "    tempo = time.time() - tempo\n",
        "    return lista, tempo"
      ],
      "metadata": {
        "id": "w93N0Pvbho1p"
      },
      "execution_count": 7,
      "outputs": []
    },
    {
      "cell_type": "code",
      "source": [
        "listas2 = []\n",
        "tempos2 = []\n",
        "for i in tamanholistas:\n",
        "    lista = random.sample(range(1000), i)\n",
        "    listas2.append(lista)\n",
        "for lista in listas2:\n",
        "    resul, tempo = bubblesortotimizado(lista)\n",
        "    tempos2.append(tempo)\n",
        "\n",
        "print(listas2[0], tempos2)"
      ],
      "metadata": {
        "colab": {
          "base_uri": "https://localhost:8080/"
        },
        "id": "ZlMMj7WAiFl3",
        "outputId": "367f6928-a636-4741-e06c-13bdc2ce1f37"
      },
      "execution_count": 8,
      "outputs": [
        {
          "output_type": "stream",
          "name": "stdout",
          "text": [
            "[55, 262, 267, 496, 763] [4.76837158203125e-06, 1.1682510375976562e-05, 2.6226043701171875e-05, 4.553794860839844e-05, 7.677078247070312e-05, 7.987022399902344e-05, 0.025248050689697266]\n"
          ]
        }
      ]
    },
    {
      "cell_type": "markdown",
      "source": [
        "A principal vantagem da versão otimizada é que, no melhor caso, quando a lista já está ordenada, o algoritmo detecta isso após a primeira iteração e para imediatamente, economizando tempo.\n",
        "Em listas que já estão parcialmente ordenadas, o número de iterações pode ser menor que o caso médio, mas o limite assintótico ainda permanece O(n²) na maioria dos casos.\n",
        "###Análise Assintótica\n",
        "Bubble Sort Comum:\n",
        "- Melhor Caso: $O(n^2)$\n",
        "- Pior Caso: $O(n^2)$\n",
        "- Caso Médio: $O(n^2)$\n",
        "\n",
        "Bubble Sort Otimizado:\n",
        "- Melhor Caso: $O(n)$\n",
        "- Pior Caso: $O(n^2)$\n",
        "- Caso Médio: $O(n^2)$"
      ],
      "metadata": {
        "id": "kQIZ5sx6i2M_"
      }
    }
  ]
}